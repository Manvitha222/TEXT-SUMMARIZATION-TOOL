{
 "cells": [
  {
   "cell_type": "code",
   "execution_count": 1,
   "id": "454db6d8-4b8a-4df2-a088-2184d7f10d18",
   "metadata": {},
   "outputs": [
    {
     "name": "stderr",
     "output_type": "stream",
     "text": [
      "/home/manvi/.local/share/pipx/venvs/notebook/lib/python3.12/site-packages/tqdm/auto.py:21: TqdmWarning: IProgress not found. Please update jupyter and ipywidgets. See https://ipywidgets.readthedocs.io/en/stable/user_install.html\n",
      "  from .autonotebook import tqdm as notebook_tqdm\n"
     ]
    }
   ],
   "source": [
    "from transformers import pipeline"
   ]
  },
  {
   "cell_type": "code",
   "execution_count": null,
   "id": "5e74a680-3854-44e1-94c8-61af65f89a18",
   "metadata": {},
   "outputs": [
    {
     "name": "stdout",
     "output_type": "stream",
     "text": [
      "==== Article Summarizer ====\n"
     ]
    }
   ],
   "source": [
    "def summarize_article(text, max_length=130, min_length=30):\n",
    "    summarizer = pipeline(\"summarization\", model=\"facebook/bart-large-cnn\")\n",
    "    summary = summarizer(text, max_length=max_length, min_length=min_length, do_sample=False)\n",
    "    return summary[0]['summary_text']\n",
    "\n",
    "def main():\n",
    "    print(\"==== Article Summarizer ====\")\n",
    "    choice = input(\"Enter 1 to paste text or 2 to load from file: \").strip()\n",
    "\n",
    "    if choice == \"1\":\n",
    "        print(\"Paste your article text below. End with a blank line:\")\n",
    "        lines = []\n",
    "        while True:\n",
    "            line = input()\n",
    "            if line == \"\":\n",
    "                break\n",
    "            lines.append(line)\n",
    "        article = \"\\n\".join(lines)\n",
    "    elif choice == \"2\":\n",
    "        file_path = input(\"Enter the file path: \").strip()\n",
    "        try:\n",
    "            with open(file_path, \"r\", encoding=\"utf-8\") as f:\n",
    "                article = f.read()\n",
    "        except FileNotFoundError:\n",
    "            print(\"File not found.\")\n",
    "            return\n",
    "    else:\n",
    "        print(\"Invalid choice.\")\n",
    "        return\n",
    "\n",
    "    print(\"\\n--- Original Article ---\\n\")\n",
    "    print(article[:1000] + (\"...\" if len(article) > 1000 else \"\"))  # Show first 1000 chars\n",
    "\n",
    "    print(\"\\n--- Generating Summary ---\\n\")\n",
    "    summary = summarize_article(article)\n",
    "    print(summary)\n",
    "\n",
    "if __name__ == \"__main__\":\n",
    "    main()\n"
   ]
  },
  {
   "cell_type": "code",
   "execution_count": null,
   "id": "3f895589-c5ab-4251-87be-243f80fc52cf",
   "metadata": {},
   "outputs": [],
   "source": []
  }
 ],
 "metadata": {
  "kernelspec": {
   "display_name": "Python 3 (ipykernel)",
   "language": "python",
   "name": "python3"
  },
  "language_info": {
   "codemirror_mode": {
    "name": "ipython",
    "version": 3
   },
   "file_extension": ".py",
   "mimetype": "text/x-python",
   "name": "python",
   "nbconvert_exporter": "python",
   "pygments_lexer": "ipython3",
   "version": "3.12.3"
  }
 },
 "nbformat": 4,
 "nbformat_minor": 5
}
